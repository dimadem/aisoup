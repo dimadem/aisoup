{
 "cells": [
  {
   "cell_type": "code",
   "execution_count": 7,
   "metadata": {},
   "outputs": [],
   "source": [
    "import os\n",
    "import pprint\n",
    "import matplotlib.pyplot as pyplot\n",
    "from dotenv import load_dotenv\n",
    "\n",
    "import chromadb\n",
    "from chromadb.utils.embedding_functions import OpenCLIPEmbeddingFunction\n",
    "from chromadb.utils.data_loaders import ImageLoader"
   ]
  },
  {
   "cell_type": "markdown",
   "metadata": {},
   "source": [
    "New ingredients!\n",
    "\n",
    "[CLIP](https://openai.com/index/clip/)\n",
    "\n",
    "https://docs.trychroma.com/guides/multimodal\n"
   ]
  },
  {
   "cell_type": "code",
   "execution_count": null,
   "metadata": {},
   "outputs": [],
   "source": [
    "# Initiate file at folder \"./chromadb\" or load if it already exists\n",
    "chroma_client = chromadb.PersistentClient(path=\"./chromadb/\")\n",
    "\n",
    "# Initiate image_loader helper\n",
    "image_loader = ImageLoader()\n",
    "\n",
    "# Initiate multimodal embedding function which supports text and images\n",
    "multimodal_ef = OpenCLIPEmbeddingFunction()\n",
    "\n",
    "collection_name = \"m_db\"\n",
    "\n",
    "collection = chroma_client.get_or_create_collection(\n",
    "    name=collection_name,\n",
    "    embedding_function=multimodal_ef,\n",
    "    data_loader=image_loader\n",
    "    )\n",
    "\n",
    "result = collection.get()\n",
    "\n",
    "print(f\"Collection {collection_name} created successfully -> {chroma_client.heartbeat()} nanoseconds\")\n",
    "pprint.pprint(result)"
   ]
  },
  {
   "cell_type": "code",
   "execution_count": null,
   "metadata": {},
   "outputs": [],
   "source": [
    "collection.add(\n",
    "    ids=[\n",
    "        '0', \n",
    "        '1'\n",
    "        ],\n",
    "    uris=[\n",
    "        '../files/img/cat.png',\n",
    "        '../files/img/dog.png'\n",
    "        ]\n",
    "\n",
    ")\n",
    "\n",
    "collection.count()"
   ]
  },
  {
   "cell_type": "code",
   "execution_count": 4,
   "metadata": {},
   "outputs": [],
   "source": [
    "def print_q_results(query_list: list, query_results: dict) -> None:\n",
    "    result_count = len(query_results['ids'][0])\n",
    "\n",
    "    for i in range(len(query_list)):\n",
    "        print(f'Results for query -> {query_list[i]} <-\\n')\n",
    "\n",
    "        for j in range(result_count):\n",
    "            id          = query_results['ids'][i][j]\n",
    "            distance    = query_results['distances'][i][j]\n",
    "            data        = query_results['data'][i][j]\n",
    "            document    = query_results['documents'][i][j]\n",
    "            metadata    = query_results['metadatas'][i][j]\n",
    "            uri         = query_results['uris'][i][j]\n",
    "            print(f'document id:    {id}')\n",
    "            print(f'distance:       {distance}')\n",
    "            print(f'metadata:       {metadata}')\n",
    "\n",
    "            # Display image (file should be at the same folder as the notebook)\n",
    "            # ImageLoader loads the image from file\n",
    "            print(f'data:           {uri}')\n",
    "            pyplot.imshow(data)\n",
    "            pyplot.axis(\"off\")\n",
    "            pyplot.show()\n",
    "            print('---')\n"
   ]
  },
  {
   "cell_type": "code",
   "execution_count": null,
   "metadata": {},
   "outputs": [],
   "source": [
    "query = ['dog']\n",
    "\n",
    "q_result = collection.query(\n",
    "    query_texts=query,\n",
    "    n_results=5,\n",
    "    include=['documents', 'distances', 'embeddings', 'metadatas', 'data', 'uris']\n",
    ")\n",
    "\n",
    "print_q_results(query, q_result)"
   ]
  },
  {
   "cell_type": "code",
   "execution_count": null,
   "metadata": {},
   "outputs": [],
   "source": [
    "collection.add(\n",
    "    ids=[\n",
    "        'soup_0',\n",
    "        'soup_1',\n",
    "        'soup_2',\n",
    "        'soup_3',\n",
    "        'soup_4'\n",
    "        ],\n",
    "    uris=[\n",
    "        '../files/img/0_aisoup.png',\n",
    "        '../files/img/1_borsch.png',\n",
    "        '../files/img/2_cullen_skink.png',\n",
    "        '../files/img/3_ramen.png',\n",
    "        '../files/img/4_tom_yum.png'\n",
    "        ],\n",
    "    metadatas=[\n",
    "        {'img_id': 'soup_0', 'category': 'course', 'ingredients': 'anthropic, python, evidently, chromadb, sqlite'},\n",
    "        {'img_id': 'soup_1', 'category': 'soup', 'ingredients': 'beets, cabbage, potatoes, carrots, onions, garlic, beef, tomato paste, vinegar, sugar, bay leaves, sour cream, dill'},\n",
    "        {'img_id': 'soup_2', 'category': 'soup', 'ingredients': 'smoked haddock, potatoes, onions, milk or cream, butter, parsley'},\n",
    "        {'img_id': 'soup_3', 'category': 'soup', 'ingredients': 'ramen noodles, chicken broth, boiled eggs, green onions, nori (seaweed), bamboo shoots'},\n",
    "        {'img_id': 'soup_4', 'category': 'soup', 'ingredients': 'shrimp seafood, lemongrass, kaffir lime leaves, galangal, Thai chilies, fish sauce, lime juice, mushrooms, tomatoes, cilantro'}\n",
    "    ]\n",
    ")\n",
    "\n",
    "collection.count()"
   ]
  },
  {
   "cell_type": "code",
   "execution_count": null,
   "metadata": {},
   "outputs": [],
   "source": [
    "query = ['beef']\n",
    "\n",
    "q_result = collection.query(\n",
    "    query_texts=query,\n",
    "    # where={'category': {'$eq': 'soup'}},\n",
    "    n_results=5,\n",
    "    include=['documents', 'distances', 'embeddings', 'metadatas', 'data', 'uris']\n",
    ")\n",
    "\n",
    "print_q_results(query, q_result)"
   ]
  },
  {
   "cell_type": "code",
   "execution_count": null,
   "metadata": {},
   "outputs": [],
   "source": [
    "chroma_client.delete_collection(collection_name)\n",
    "\n",
    "list_collections = chroma_client.list_collections()\n",
    "\n",
    "print(list_collections)"
   ]
  }
 ],
 "metadata": {
  "kernelspec": {
   "display_name": ".venv",
   "language": "python",
   "name": "python3"
  },
  "language_info": {
   "codemirror_mode": {
    "name": "ipython",
    "version": 3
   },
   "file_extension": ".py",
   "mimetype": "text/x-python",
   "name": "python",
   "nbconvert_exporter": "python",
   "pygments_lexer": "ipython3",
   "version": "3.12.2"
  }
 },
 "nbformat": 4,
 "nbformat_minor": 2
}
